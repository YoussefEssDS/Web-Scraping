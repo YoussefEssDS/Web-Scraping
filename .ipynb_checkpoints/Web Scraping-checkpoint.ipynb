{
 "cells": [
  {
   "cell_type": "markdown",
   "metadata": {},
   "source": [
    "A tutorial for website scrapping using the Requests and BeautifullSoup libraries. "
   ]
  },
  {
   "cell_type": "code",
   "execution_count": 1,
   "metadata": {},
   "outputs": [],
   "source": [
    "import requests # To be able to access websites we wish to scrap.\n",
    "from bs4 import BeautifulSoup\n",
    "import csv\n",
    "import pandas as pd"
   ]
  },
  {
   "cell_type": "code",
   "execution_count": 2,
   "metadata": {},
   "outputs": [],
   "source": [
    "url='http://ensias.um5.ac.ma/page/ing%C3%A9nieurs' # We will extract names of Allumni from my own school ENSIAS for the 2015 promo."
   ]
  },
  {
   "cell_type": "code",
   "execution_count": 3,
   "metadata": {},
   "outputs": [
    {
     "name": "stdout",
     "output_type": "stream",
     "text": [
      "200\n"
     ]
    }
   ],
   "source": [
    "req=requests.get(url) \n",
    "status=req.status_code # Status of the connection attempt if everything is good this should have a 200 value.\n",
    "encoding=req.encoding\n",
    "text=BeautifulSoup(req.text,'html.parser')\n",
    "print(status)"
   ]
  },
  {
   "cell_type": "code",
   "execution_count": 5,
   "metadata": {},
   "outputs": [
    {
     "data": {
      "text/plain": [
       "<tr height=\"20\"><td align=\"right\" height=\"20\" style=\"height:20px;\">183</td>\n",
       "<td align=\"left\">ZRAIBI</td>\n",
       "<td align=\"left\">SALMA</td>\n",
       "</tr>"
      ]
     },
     "execution_count": 5,
     "metadata": {},
     "output_type": "execute_result"
    }
   ],
   "source": [
    "data=text.findAll('tr') # Finding all tags with 'tr' in them\n",
    "for item in data:\n",
    "    pass\n",
    "item # We only catch the last one to see how it looks like."
   ]
  },
  {
   "cell_type": "code",
   "execution_count": 14,
   "metadata": {},
   "outputs": [
    {
     "data": {
      "text/plain": [
       "[<td align=\"right\" height=\"20\" style=\"height:20px;\">183</td>,\n",
       " '\\n',\n",
       " <td align=\"left\">ZRAIBI</td>,\n",
       " '\\n',\n",
       " <td align=\"left\">SALMA</td>,\n",
       " '\\n']"
      ]
     },
     "execution_count": 14,
     "metadata": {},
     "output_type": "execute_result"
    }
   ],
   "source": [
    "a=item.contents # Turns the response obtained into a list\n",
    "a"
   ]
  },
  {
   "cell_type": "code",
   "execution_count": 23,
   "metadata": {},
   "outputs": [
    {
     "name": "stdout",
     "output_type": "stream",
     "text": [
      "List of students promo 2015: \n",
      "\n",
      "First name          Last name      \n",
      "\n",
      "ABI                 YASSIR         \n",
      "ABIDALLAH           YOUSSEF        \n",
      "ACHAOUD             HANANE         \n",
      "ADDAD               ABDELHALIM     \n",
      "AFIF                MOHAMMED       \n",
      "AIT EL HAJ          KHADIJA        \n",
      "AIT EL HARRAJ       AMINE          \n",
      "AIT MANSOUR         YOUSSEF        \n",
      "AITOUNA             MOHAMED        \n",
      "AL MAACH            WAHIBA         \n",
      "ALAOUI MRANI        SOUKAINA       \n",
      "ALLAOU              MARIAME        \n",
      "ALMAMOUN            ZAKARIAE       \n",
      "AMARA               HALA           \n",
      "AMCHICH             IMANE          \n",
      "AMENCHAR            NABIL          \n",
      "AMMARI              KHALID         \n",
      "AMNAS               ASMAE          \n",
      "AOULADLAHCEN        MOHAMMED       \n",
      "AOUNI               HAMZA          \n",
      "AOURAGH             YOUNESSE       \n",
      "AOUTIL              AHMED          \n",
      "AQQA                MILOUD         \n",
      "BAHADOU             HIND           \n",
      "BARBARE             MOHAMMED AMINE \n",
      "BELAKHAL            HAMZA          \n",
      "BELGHITI            MEHDI          \n",
      "BELJEBBAR           ALAEDDINE      \n",
      "BELKANDOUCI         BAHIYA         \n",
      "BELLAHCENE          TAHA           \n",
      "BELRHALMIA          WALID          \n",
      "BEN SALEH           SAIDA          \n",
      "BENABDALMALEK       ZAKARIYA       \n",
      "BENHALIMA           FADOUA         \n",
      "BENKACEM            ILIAS          \n",
      "BENKIRANE           MEHDI          \n",
      "BENMOUHOU           SOUAD          \n",
      "BETACHNI            TARIQ          \n",
      "BEZRHOUD            IBRAHIM        \n",
      "BEZRHOUDI           MOHAMMED REDA  \n",
      "BOUALOU             OUMNIA         \n",
      "BOUCHNAFA           ANASS          \n",
      "BOUDHAIM            BACHIR         \n",
      "BOUDOUH             HAMZA          \n",
      "BOUFALA             ABDELALI       \n",
      "BOUHMID             MUSTAPHA       \n",
      "BOUKHARTA           MEHDI          \n",
      "BOULAICH            MOHAMED        \n",
      "BOUQOUROU           KELTOUM        \n",
      "BOURHIM             SOFIA          \n",
      "BOURZIZ             NABIL          \n",
      "BOUSADIK            HOUSSAM        \n",
      "BOUTJIM             ABDELMAJID     \n",
      "CHABLI              SAAD           \n",
      "CHARIF TRIBAK       SARA           \n",
      "CHARMOUKI           HICHAM         \n",
      "CHERBI              MEHDI          \n",
      "DAHA                FATIMA ZOHRA   \n",
      "DAHMANE             YOUSSEF        \n",
      "DJEKMANI            AZZ EDDINE     \n",
      "DJOHAR              REDA           \n",
      "DRIOUI              HAFSA          \n",
      "EL ALAMI            SALIM          \n",
      "EL ALLAM            HASSNA         \n",
      "EL AMRANI           MOHAMMED       \n",
      "EL ASSAL            SOUFIANE       \n",
      "EL BOUATMANI        IMAD           \n",
      "EL HMAIDI           MADIHA         \n",
      "EL HOUR             ABDELHAFID     \n",
      "EL IBRAHIMI         NOUSSAIBA      \n",
      "EL JAOUSSI          YOUSSEF        \n",
      "EL MADANI           SOUMIA         \n",
      "EL MESSOUSSI        MOHAMMED YASSIR\n",
      "EL MOUDDEN          WAIIL          \n",
      "EL MZOURI           HAYAT          \n",
      "EL OUAKILI          HAMZA          \n",
      "EL YOUSSOUFI        KHADIJA        \n",
      "ELAISSAOUI          ISMAIL         \n",
      "ERRARHBI            AYOUB          \n",
      "ESSAADANI           SOUFIANE       \n",
      "ESSEIDI             ANAS           \n",
      "EZZAKRI             NOURDINE       \n",
      "FAHIM               ABDELOUAHID    \n",
      "FATEMI              SOUMAYA        \n",
      "FHAMNI              YOUNES         \n",
      "GAIZI               ZINEB          \n",
      "GEBRATI             SARA           \n",
      "GRINI               ACHRAF         \n",
      "HABIB               YOUNESS JALAL  \n",
      "HADI                HALIMA         \n",
      "HAJJAR              MOHAMED AYOUB  \n",
      "HAJOULI             SOUKAINA       \n",
      "HAMDANE             ABD ALMAJIDE   \n",
      "HAMIDA              AYOUB          \n",
      "HAMZA               MARIAMA        \n",
      "HIDAYAT ALLAH       YOUNES         \n",
      "IBEN BRAHIM         SOUMAYA        \n",
      "IDRISSI             OSSAMA         \n",
      "IMAM                ANAS           \n",
      "IZDOUZEN            SAID           \n",
      "JABAL               GHIZLANE       \n",
      "JABRI               IMANE          \n",
      "KADIMI SKALLI       DOUNIA         \n",
      "KAHLI               ILIASS         \n",
      "KANDOUSSI           EL MEHDI       \n",
      "KHAMLICHI           AMINE          \n",
      "KHANNAT             AICHA          \n",
      "KINANI              YOUNESS        \n",
      "KORACHI             ZINEB          \n",
      "KORAMI              YASSIR         \n",
      "LAGMANI             SALMA          \n",
      "LAKSSIOUER          AHMED          \n",
      "LANOUNI             ACHRAF         \n",
      "LAOUZI              ROUKIA         \n",
      "LBOUCHOUARI         MUSTAPHA       \n",
      "LEMBARKI            MOHAMED AMINE  \n",
      "LOGDALI             SOUFIANE       \n",
      "LOTFI EL IDRISSI    OTHMANE        \n",
      "LOUGHZAFI           YACIRE         \n",
      "MACHKOUR            MONCEF         \n",
      "MAGHRAOUI           ABDELHAKIM     \n",
      "MAIOUAK             MARIEM         \n",
      "MAKBOUB             HAJAR          \n",
      "MAMMAR              GHITA          \n",
      "MASBAH              REDOUAN        \n",
      "MASK                MERYEM         \n",
      "MASSOU              SANA           \n",
      "MEDRANI             SOUFIA         \n",
      "MERIZAK             YOUSSEF        \n",
      "MERZAQ              SELIM          \n",
      "MESBAHI             SOUMIA         \n",
      "MESSOUDI            SOUNDOUSS      \n",
      "METWALLI            AYOUB          \n",
      "MIFDAL              ABDELALI       \n",
      "MIHI                KAOUTAR        \n",
      "MORCHID             ZAKARIA        \n",
      "MOUDEN              KENZA          \n",
      "MOUHARRIR           SARA           \n",
      "MOULOU              ZAKARIA        \n",
      "NABIL               SOUFIANE       \n",
      "NAJIH               YAAKOUB        \n",
      "NEJJARI             LOUBNA         \n",
      "OMARI               SOUFIANE       \n",
      "OUAGAGUE            MOSTAFA        \n",
      "OUKHEYI             BRAHIM         \n",
      "OULHAJ              JAMILA         \n",
      "RACHID              AMINE          \n",
      "RAOUDI              YASSINE        \n",
      "RAYADH              CHAIMAE        \n",
      "REZZOUQI            HASNAE         \n",
      "REZZOUQI            HAJAR          \n",
      "ROUANE              KAWTAR         \n",
      "SAADI               MASSYLE        \n",
      "SABRE               NABIL          \n",
      "SADEQ               ALI            \n",
      "SAIDI               MOHAMMED AMINE \n",
      "SAIED               YASSINE        \n",
      "SAILOUHI            LAMIAA         \n",
      "SAKKAH              HASNAE         \n",
      "SAOUALAH            JIHAD          \n",
      "SARA                HAMZA          \n",
      "SEFIANE             HAMZA          \n",
      "SIDIKOU ISSA HAROUNAAMINATOU       \n",
      "SOALI               YASSAMINE      \n",
      "TAHIR               KAOUTAR        \n",
      "TAHIRI AMINE        MOHAMMED       \n",
      "TANTAOUI            MOHAMED        \n",
      "TAOUDI EDRISSI      HASNAA         \n",
      "TAZLAFT             AMINE          \n",
      "TERHZAZ             SIHAM          \n",
      "TERIKI              FATIMA EZZAHRA \n",
      "TORRES              DINA           \n",
      "YACHAOUI            AYMAN          \n",
      "YOUSFI              AOLA           \n",
      "ZAHIR               OMAR           \n",
      "ZAIDI               OUSSAMA        \n",
      "ZAKHNINI            ABDELLAH       \n",
      "ZEKRAOUI            IMANE          \n",
      "ZEROUAL             YASSINE        \n",
      "ZEROUAL             ISSAM          \n",
      "ZNAIDI              YASSER         \n",
      "ZOUAGUI             ZINEB          \n",
      "ZRAIBI              SALMA          \n"
     ]
    }
   ],
   "source": [
    "print(\"List of students promo 2015: \\n\")\n",
    "print(f\"{'First name':<20}{'Last name':<15}\\n\")\n",
    "for item in data:\n",
    "    a=item.contents\n",
    "    print(f\"{a[2].text:<20}{a[4].text:<15}\") # .text method returns the contents of the tag as a string"
   ]
  },
  {
   "cell_type": "markdown",
   "metadata": {},
   "source": [
    "Now for another task, we will now try to retrieve images too. We will be using for this task Jumia."
   ]
  },
  {
   "cell_type": "code",
   "execution_count": 24,
   "metadata": {},
   "outputs": [],
   "source": [
    "url='https://www.jumia.com.ng/laptops/'"
   ]
  },
  {
   "cell_type": "code",
   "execution_count": 25,
   "metadata": {},
   "outputs": [
    {
     "name": "stdout",
     "output_type": "stream",
     "text": [
      "200\n"
     ]
    }
   ],
   "source": [
    "# Same story here for establishing connection and getting the response.\n",
    "req=requests.get(url)\n",
    "status=req.status_code\n",
    "encoding=req.encoding\n",
    "text=BeautifulSoup(req.text,'html.parser')\n",
    "print(status)"
   ]
  },
  {
   "cell_type": "code",
   "execution_count": 70,
   "metadata": {},
   "outputs": [
    {
     "data": {
      "text/plain": [
       "<a class=\"link\" href=\"https://www.jumia.com.ng/envy-13-8th-gen-intel-core-i7-1.8-up-to-4.0ghz-8gb256gb-ssd-1tb-external-hdd13.3-inch-wins-10-hp-mpg340803.html\"> <div class=\"top\"> </div> <div class=\"image-wrapper default-state\"><img alt=\"Envy 13 8th Gen Intel Core I7-1.8 Up To 4.0Ghz (8GB,256GB SSD + 1TB External HDD)13.3-inch Wins 10\" class=\"lazy image\" data-image-vertical=\"1\" data-placeholder=\"placeholder_m_1.jpg\" data-sku=\"HP246EL0Y6WEGNAFAMZ\" data-src=\"https://ng.jumia.is/ZvPUy7w_tDOu6EzuF01LXxJgs0g=/fit-in/220x220/filters:fill(white):sharpen(1,0,false):quality(100)/product/57/428872/1.jpg?5409\" height=\"220\" src=\"data:image/gif;base64,R0lGODlhAQABAIAAAAAAAP///yH5BAEAAAAALAAAAAABAAEAAAIBRAA7\" width=\"220\"/><noscript><img class=\"image\" height=\"220\" src=\"https://ng.jumia.is/ZvPUy7w_tDOu6EzuF01LXxJgs0g=/fit-in/220x220/filters:fill(white):sharpen(1,0,false):quality(100)/product/57/428872/1.jpg?5409\" width=\"220\"/></noscript></div> <h2 class=\"title\"><span class=\"brand\">Hp </span> <span class=\"name\" dir=\"ltr\">Envy 13 8th Gen Intel Core I7-1.8 Up To 4.0Ghz (8GB,256GB SSD + 1TB External HDD)13.3-inch Wins 10</span></h2><div class=\"price-container clearfix\"><span class=\"sale-flag-percent\">-12%</span> <span class=\"price-box ri\"> <span class=\"price\"><span data-currency-iso=\"NGN\">₦</span> <span data-price=\"380000\" dir=\"ltr\">380,000</span> </span> <span class=\"price -old\"><span data-currency-iso=\"NGN\">₦</span> <span data-price=\"430000\" dir=\"ltr\">430,000</span> </span> </span></div> <div class=\"rating-stars\"><div class=\"stars-container\"><div class=\"stars\" style=\"width: 20%\"></div></div> <div class=\"total-ratings\">(1)</div> </div> <div class=\"list -sizes\" data-selected-sku=\"\"> </div> <button class=\"osh-btn -primary -add-to-cart js-link js-add_cart_tracking\" data-add-to-cart-type=\"catalogPage\" data-emit-event=\"cart-item.add\" data-js-uri=\"https://www.jumia.com.ng/ajax/cart/add/?return=json&amp;keepMessages=false&amp;sku=HP246EL0Y6WEGNAFAMZ-37006773&amp;crossSellSku=\" data-sku=\"HP246EL0Y6WEGNAFAMZ\" data-sku-simple=\"HP246EL0Y6WEGNAFAMZ-37006773\"> <span class=\"label\">Buy now</span> </button> <div class=\"osh-popup -template -checkout link hidden js-back-in-stock-reminder-popup-HP246EL0Y6WEGNAFAMZ\" data-close-callback=\"\" data-href=\"https://www.jumia.com.ng/ajax/reminder/getreminderform/sku/HP246EL0Y6WEGNAFAMZ/\" data-open-callback=\"popup.BackInStockReminder.open\" data-style=\"back-in-stock-reminder\" data-title=\"Please notify me when this product is available again\" data-type=\"ajax\"></div> </a>"
      ]
     },
     "execution_count": 70,
     "metadata": {},
     "output_type": "execute_result"
    }
   ],
   "source": [
    "# By inspecting the web html code, we can know the name of tags for which we are interested for the scraping.\n",
    "# In this case the <a> tag that has a 'link' class is the one containing the product data, image, name, brand, etc..\n",
    "# So that's what we will look up using findAll. We will work on the last one as an exhibit to know its structure.\n",
    "data=text.findAll('a',{'class':'link'})\n",
    "for item in data:\n",
    "    pass\n",
    "item"
   ]
  },
  {
   "cell_type": "code",
   "execution_count": 86,
   "metadata": {},
   "outputs": [
    {
     "name": "stdout",
     "output_type": "stream",
     "text": [
      "Mark:  Hp \n",
      "Nom:  Envy 13 8th Gen Intel Core I7-1.8 Up To 4.0Ghz (8GB,256GB SSD + 1TB External HDD)13.3-inch Wins 10 \n",
      "Prix:  ₦ 380,000\n"
     ]
    }
   ],
   "source": [
    "brand=item.find_all('span',{'class':'brand'})[0].text.strip()\n",
    "name=item.find_all('span',{'class':'name'})[0].text.strip()\n",
    "price=item.find_all('span',{'class':'price'})[0].text.strip()\n",
    "print('Mark: ',brand,'\\nNom: ',name,'\\nPrix: ',price)"
   ]
  },
  {
   "cell_type": "code",
   "execution_count": 93,
   "metadata": {},
   "outputs": [
    {
     "data": {
      "text/plain": [
       "'https://ng.jumia.is/ZvPUy7w_tDOu6EzuF01LXxJgs0g=/fit-in/220x220/filters:fill(white):sharpen(1,0,false):quality(100)/product/57/428872/1.jpg?5409'"
      ]
     },
     "execution_count": 93,
     "metadata": {},
     "output_type": "execute_result"
    }
   ],
   "source": [
    "img=item.find('img',{'class':'lazy image'})\n",
    "img_src=img.get('data-src')\n",
    "img_src"
   ]
  },
  {
   "cell_type": "code",
   "execution_count": 103,
   "metadata": {},
   "outputs": [],
   "source": [
    "def get_img(url_img,id):\n",
    "    r=requests.get(url_img)\n",
    "    if r.status_code==200:\n",
    "        #img = Image.open(BytesIO(r.content))\n",
    "        img_container=\"E:/\"+str(id)+'.jpg'\n",
    "        with open(img_container ,'wb') as f:\n",
    "            f.write(r.content) "
   ]
  },
  {
   "cell_type": "code",
   "execution_count": 104,
   "metadata": {},
   "outputs": [],
   "source": [
    "get_img(img_src,1)"
   ]
  },
  {
   "cell_type": "markdown",
   "metadata": {},
   "source": [
    "![](1.jpg)"
   ]
  },
  {
   "cell_type": "code",
   "execution_count": 150,
   "metadata": {},
   "outputs": [],
   "source": [
    "DataFrame=pd.DataFrame(columns=['Lang', 'Num Artic'])"
   ]
  },
  {
   "cell_type": "code",
   "execution_count": 113,
   "metadata": {},
   "outputs": [],
   "source": [
    "url='https://www.wikipedia.org/'"
   ]
  },
  {
   "cell_type": "code",
   "execution_count": 114,
   "metadata": {},
   "outputs": [
    {
     "name": "stdout",
     "output_type": "stream",
     "text": [
      "200\n"
     ]
    }
   ],
   "source": [
    "req=requests.get(url)\n",
    "status=req.status_code\n",
    "encoding=req.encoding\n",
    "text=BeautifulSoup(req.text,'html.parser')\n",
    "print(status)"
   ]
  },
  {
   "cell_type": "code",
   "execution_count": 140,
   "metadata": {},
   "outputs": [
    {
     "data": {
      "text/plain": [
       "'5\\xa0935\\xa0000+'"
      ]
     },
     "execution_count": 140,
     "metadata": {},
     "output_type": "execute_result"
    }
   ],
   "source": [
    "data=text.findAll('div',{'class':'central-featured'})\n",
    "for item in data:\n",
    "    pass\n",
    "item.contents[].findAll('bdi')[0].text"
   ]
  },
  {
   "cell_type": "code",
   "execution_count": 153,
   "metadata": {},
   "outputs": [],
   "source": [
    "i=7\n",
    "while i<44:\n",
    "    l=[item.contents[i].findAll('strong')[0].text.strip(),item.contents[i].findAll('bdi')[0].text.strip()]\n",
    "    DataFrame.loc[i-7]=l\n",
    "    i+=4"
   ]
  },
  {
   "cell_type": "code",
   "execution_count": 154,
   "metadata": {},
   "outputs": [
    {
     "data": {
      "text/html": [
       "<div>\n",
       "<style scoped>\n",
       "    .dataframe tbody tr th:only-of-type {\n",
       "        vertical-align: middle;\n",
       "    }\n",
       "\n",
       "    .dataframe tbody tr th {\n",
       "        vertical-align: top;\n",
       "    }\n",
       "\n",
       "    .dataframe thead th {\n",
       "        text-align: right;\n",
       "    }\n",
       "</style>\n",
       "<table border=\"1\" class=\"dataframe\">\n",
       "  <thead>\n",
       "    <tr style=\"text-align: right;\">\n",
       "      <th></th>\n",
       "      <th>Lang</th>\n",
       "      <th>Num Artic</th>\n",
       "    </tr>\n",
       "  </thead>\n",
       "  <tbody>\n",
       "    <tr>\n",
       "      <th>0</th>\n",
       "      <td>English</td>\n",
       "      <td>5 935 000+</td>\n",
       "    </tr>\n",
       "    <tr>\n",
       "      <th>4</th>\n",
       "      <td>EspaÃ±ol</td>\n",
       "      <td>1 546 000+</td>\n",
       "    </tr>\n",
       "    <tr>\n",
       "      <th>8</th>\n",
       "      <td>æ¥æ¬èª</td>\n",
       "      <td>1 169 000+</td>\n",
       "    </tr>\n",
       "    <tr>\n",
       "      <th>12</th>\n",
       "      <td>Deutsch</td>\n",
       "      <td>2 345 000+</td>\n",
       "    </tr>\n",
       "    <tr>\n",
       "      <th>16</th>\n",
       "      <td>Ð ÑÑÑÐºÐ¸Ð¹</td>\n",
       "      <td>1 569 000+</td>\n",
       "    </tr>\n",
       "    <tr>\n",
       "      <th>20</th>\n",
       "      <td>FranÃ§ais</td>\n",
       "      <td>2 141 000+</td>\n",
       "    </tr>\n",
       "    <tr>\n",
       "      <th>24</th>\n",
       "      <td>Italiano</td>\n",
       "      <td>1 554 000+</td>\n",
       "    </tr>\n",
       "    <tr>\n",
       "      <th>28</th>\n",
       "      <td>ä¸­æ</td>\n",
       "      <td>1 074 000+</td>\n",
       "    </tr>\n",
       "    <tr>\n",
       "      <th>32</th>\n",
       "      <td>PortuguÃªs</td>\n",
       "      <td>1 014 000+</td>\n",
       "    </tr>\n",
       "    <tr>\n",
       "      <th>36</th>\n",
       "      <td>Polski</td>\n",
       "      <td>1 360 000+</td>\n",
       "    </tr>\n",
       "  </tbody>\n",
       "</table>\n",
       "</div>"
      ],
      "text/plain": [
       "              Lang   Num Artic\n",
       "0          English  5 935 000+\n",
       "4         EspaÃ±ol  1 546 000+\n",
       "8        æ¥æ¬èª  1 169 000+\n",
       "12         Deutsch  2 345 000+\n",
       "16  Ð ÑÑÑÐºÐ¸Ð¹  1 569 000+\n",
       "20       FranÃ§ais  2 141 000+\n",
       "24        Italiano  1 554 000+\n",
       "28          ä¸­æ  1 074 000+\n",
       "32      PortuguÃªs  1 014 000+\n",
       "36          Polski  1 360 000+"
      ]
     },
     "execution_count": 154,
     "metadata": {},
     "output_type": "execute_result"
    }
   ],
   "source": [
    "DataFrame"
   ]
  },
  {
   "cell_type": "code",
   "execution_count": null,
   "metadata": {},
   "outputs": [],
   "source": []
  },
  {
   "cell_type": "code",
   "execution_count": null,
   "metadata": {},
   "outputs": [],
   "source": []
  },
  {
   "cell_type": "code",
   "execution_count": null,
   "metadata": {},
   "outputs": [],
   "source": []
  },
  {
   "cell_type": "code",
   "execution_count": 20,
   "metadata": {},
   "outputs": [],
   "source": [
    "def getData(text):\n",
    "    for item in text.findAll('td'):\n",
    "        yield item"
   ]
  },
  {
   "cell_type": "code",
   "execution_count": 21,
   "metadata": {},
   "outputs": [
    {
     "name": "stdout",
     "output_type": "stream",
     "text": [
      "<td align=\"right\" height=\"20\" style=\"height:20px;width:87px;\">1</td>\n",
      "<td align=\"left\" style=\"width:157px;\"><span data-scayt_word=\"ABI\" data-scaytid=\"1\">ABI</span></td>\n",
      "<td align=\"left\" style=\"width:143px;\"><span data-scayt_word=\"YASSIR\" data-scaytid=\"2\">YASSIR</span></td>\n"
     ]
    }
   ],
   "source": [
    "i=0\n",
    "for item in getData(text):\n",
    "    if i<3:\n",
    "        pas\n",
    "        print(item)\n",
    "        i+=1\n",
    "    else:\n",
    "        break"
   ]
  },
  {
   "cell_type": "code",
   "execution_count": null,
   "metadata": {},
   "outputs": [],
   "source": []
  }
 ],
 "metadata": {
  "kernelspec": {
   "display_name": "Python 3",
   "language": "python",
   "name": "python3"
  },
  "language_info": {
   "codemirror_mode": {
    "name": "ipython",
    "version": 3
   },
   "file_extension": ".py",
   "mimetype": "text/x-python",
   "name": "python",
   "nbconvert_exporter": "python",
   "pygments_lexer": "ipython3",
   "version": "3.7.3"
  }
 },
 "nbformat": 4,
 "nbformat_minor": 2
}
