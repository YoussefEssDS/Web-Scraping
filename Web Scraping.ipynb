{
 "cells": [
  {
   "cell_type": "markdown",
   "metadata": {},
   "source": [
    "A tutorial for website scrapping using the Requests and BeautifullSoup libraries. "
   ]
  },
  {
   "cell_type": "code",
   "execution_count": 155,
   "metadata": {},
   "outputs": [],
   "source": [
    "import requests # To be able to access websites we wish to scrap.\n",
    "from bs4 import BeautifulSoup\n",
    "import csv\n",
    "import pandas as pd"
   ]
  },
  {
   "cell_type": "code",
   "execution_count": 156,
   "metadata": {},
   "outputs": [],
   "source": [
    "url='http://ensias.um5.ac.ma/page/ing%C3%A9nieurs' # We will extract first names of Allumni from my own school ENSIAS for the 2015 promo."
   ]
  },
  {
   "cell_type": "code",
   "execution_count": 158,
   "metadata": {},
   "outputs": [
    {
     "name": "stdout",
     "output_type": "stream",
     "text": [
      "200\n"
     ]
    }
   ],
   "source": [
    "req=requests.get(url) \n",
    "status=req.status_code # Status of the connection attempt if everything is good this should have a 200 value.\n",
    "encoding=req.encoding\n",
    "text=BeautifulSoup(req.text,'html.parser')\n",
    "print(status)"
   ]
  },
  {
   "cell_type": "code",
   "execution_count": 65,
   "metadata": {},
   "outputs": [
    {
     "data": {
      "text/plain": [
       "<tr height=\"20\"><td align=\"right\" height=\"20\" style=\"height:20px;\">183</td>\n",
       "<td align=\"left\">ZRAIBI</td>\n",
       "<td align=\"left\">SALMA</td>\n",
       "</tr>"
      ]
     },
     "execution_count": 65,
     "metadata": {},
     "output_type": "execute_result"
    }
   ],
   "source": [
    "data=text.findAll('tr')\n",
    "for item in data:\n",
    "    pass\n",
    "item"
   ]
  },
  {
   "cell_type": "code",
   "execution_count": 66,
   "metadata": {},
   "outputs": [
    {
     "data": {
      "text/plain": [
       "[<td align=\"right\" height=\"20\" style=\"height:20px;\">183</td>,\n",
       " '\\n',\n",
       " <td align=\"left\">ZRAIBI</td>,\n",
       " '\\n',\n",
       " <td align=\"left\">SALMA</td>,\n",
       " '\\n']"
      ]
     },
     "execution_count": 66,
     "metadata": {},
     "output_type": "execute_result"
    }
   ],
   "source": [
    "a=item.contents\n",
    "a"
   ]
  },
  {
   "cell_type": "code",
   "execution_count": 67,
   "metadata": {},
   "outputs": [
    {
     "name": "stdout",
     "output_type": "stream",
     "text": [
      "Liste eleve promo 2015: \n",
      "Nom:  ABI  Prenom:  YASSIR\n",
      "Nom:  ABIDALLAH  Prenom:  YOUSSEF\n",
      "Nom:  ACHAOUD  Prenom:  HANANE\n",
      "Nom:  ADDAD  Prenom:  ABDELHALIM\n",
      "Nom:  AFIF  Prenom:  MOHAMMED\n",
      "Nom:  AIT EL HAJ  Prenom:  KHADIJA\n",
      "Nom:  AIT EL HARRAJ  Prenom:  AMINE\n",
      "Nom:  AIT MANSOUR  Prenom:  YOUSSEF\n",
      "Nom:  AITOUNA  Prenom:  MOHAMED\n",
      "Nom:  AL MAACH  Prenom:  WAHIBA\n",
      "Nom:  ALAOUI MRANI  Prenom:  SOUKAINA\n",
      "Nom:  ALLAOU  Prenom:  MARIAME\n",
      "Nom:  ALMAMOUN  Prenom:  ZAKARIAE\n",
      "Nom:  AMARA  Prenom:  HALA\n",
      "Nom:  AMCHICH  Prenom:  IMANE\n",
      "Nom:  AMENCHAR  Prenom:  NABIL\n",
      "Nom:  AMMARI  Prenom:  KHALID\n",
      "Nom:  AMNAS  Prenom:  ASMAE\n",
      "Nom:  AOULADLAHCEN  Prenom:  MOHAMMED\n",
      "Nom:  AOUNI  Prenom:  HAMZA\n",
      "Nom:  AOURAGH  Prenom:  YOUNESSE\n",
      "Nom:  AOUTIL  Prenom:  AHMED\n",
      "Nom:  AQQA  Prenom:  MILOUD\n",
      "Nom:  BAHADOU  Prenom:  HIND\n",
      "Nom:  BARBARE  Prenom:  MOHAMMED AMINE\n",
      "Nom:  BELAKHAL  Prenom:  HAMZA\n",
      "Nom:  BELGHITI  Prenom:  MEHDI\n",
      "Nom:  BELJEBBAR  Prenom:  ALAEDDINE\n",
      "Nom:  BELKANDOUCI  Prenom:  BAHIYA\n",
      "Nom:  BELLAHCENE  Prenom:  TAHA\n",
      "Nom:  BELRHALMIA  Prenom:  WALID\n",
      "Nom:  BEN SALEH  Prenom:  SAIDA\n",
      "Nom:  BENABDALMALEK  Prenom:  ZAKARIYA\n",
      "Nom:  BENHALIMA  Prenom:  FADOUA\n",
      "Nom:  BENKACEM  Prenom:  ILIAS\n",
      "Nom:  BENKIRANE  Prenom:  MEHDI\n",
      "Nom:  BENMOUHOU  Prenom:  SOUAD\n",
      "Nom:  BETACHNI  Prenom:  TARIQ\n",
      "Nom:  BEZRHOUD  Prenom:  IBRAHIM\n",
      "Nom:  BEZRHOUDI  Prenom:  MOHAMMED REDA\n",
      "Nom:  BOUALOU  Prenom:  OUMNIA\n",
      "Nom:  BOUCHNAFA  Prenom:  ANASS\n",
      "Nom:  BOUDHAIM  Prenom:  BACHIR\n",
      "Nom:  BOUDOUH  Prenom:  HAMZA\n",
      "Nom:  BOUFALA  Prenom:  ABDELALI\n",
      "Nom:  BOUHMID  Prenom:  MUSTAPHA\n",
      "Nom:  BOUKHARTA  Prenom:  MEHDI\n",
      "Nom:  BOULAICH  Prenom:  MOHAMED\n",
      "Nom:  BOUQOUROU  Prenom:  KELTOUM\n",
      "Nom:  BOURHIM  Prenom:  SOFIA\n",
      "Nom:  BOURZIZ  Prenom:  NABIL\n",
      "Nom:  BOUSADIK  Prenom:  HOUSSAM\n",
      "Nom:  BOUTJIM  Prenom:  ABDELMAJID\n",
      "Nom:  CHABLI  Prenom:  SAAD\n",
      "Nom:  CHARIF TRIBAK  Prenom:  SARA\n",
      "Nom:  CHARMOUKI  Prenom:  HICHAM\n",
      "Nom:  CHERBI  Prenom:  MEHDI\n",
      "Nom:  DAHA  Prenom:  FATIMA ZOHRA\n",
      "Nom:  DAHMANE  Prenom:  YOUSSEF\n",
      "Nom:  DJEKMANI  Prenom:  AZZ EDDINE\n",
      "Nom:  DJOHAR  Prenom:  REDA\n",
      "Nom:  DRIOUI  Prenom:  HAFSA\n",
      "Nom:  EL ALAMI  Prenom:  SALIM\n",
      "Nom:  EL ALLAM  Prenom:  HASSNA\n",
      "Nom:  EL AMRANI  Prenom:  MOHAMMED\n",
      "Nom:  EL ASSAL  Prenom:  SOUFIANE\n",
      "Nom:  EL BOUATMANI  Prenom:  IMAD\n",
      "Nom:  EL HMAIDI  Prenom:  MADIHA\n",
      "Nom:  EL HOUR  Prenom:  ABDELHAFID\n",
      "Nom:  EL IBRAHIMI  Prenom:  NOUSSAIBA\n",
      "Nom:  EL JAOUSSI  Prenom:  YOUSSEF\n",
      "Nom:  EL MADANI  Prenom:  SOUMIA\n",
      "Nom:  EL MESSOUSSI  Prenom:  MOHAMMED YASSIR\n",
      "Nom:  EL MOUDDEN  Prenom:  WAIIL\n",
      "Nom:  EL MZOURI  Prenom:  HAYAT\n",
      "Nom:  EL OUAKILI  Prenom:  HAMZA\n",
      "Nom:  EL YOUSSOUFI  Prenom:  KHADIJA\n",
      "Nom:  ELAISSAOUI  Prenom:  ISMAIL\n",
      "Nom:  ERRARHBI  Prenom:  AYOUB\n",
      "Nom:  ESSAADANI  Prenom:  SOUFIANE\n",
      "Nom:  ESSEIDI  Prenom:  ANAS\n",
      "Nom:  EZZAKRI  Prenom:  NOURDINE\n",
      "Nom:  FAHIM  Prenom:  ABDELOUAHID\n",
      "Nom:  FATEMI  Prenom:  SOUMAYA\n",
      "Nom:  FHAMNI  Prenom:  YOUNES\n",
      "Nom:  GAIZI  Prenom:  ZINEB\n",
      "Nom:  GEBRATI  Prenom:  SARA\n",
      "Nom:  GRINI  Prenom:  ACHRAF\n",
      "Nom:  HABIB  Prenom:  YOUNESS JALAL\n",
      "Nom:  HADI  Prenom:  HALIMA\n",
      "Nom:  HAJJAR  Prenom:  MOHAMED AYOUB\n",
      "Nom:  HAJOULI  Prenom:  SOUKAINA\n",
      "Nom:  HAMDANE  Prenom:  ABD ALMAJIDE\n",
      "Nom:  HAMIDA  Prenom:  AYOUB\n",
      "Nom:  HAMZA  Prenom:  MARIAMA\n",
      "Nom:  HIDAYAT ALLAH  Prenom:  YOUNES\n",
      "Nom:  IBEN BRAHIM  Prenom:  SOUMAYA\n",
      "Nom:  IDRISSI  Prenom:  OSSAMA\n",
      "Nom:  IMAM  Prenom:  ANAS\n",
      "Nom:  IZDOUZEN  Prenom:  SAID\n",
      "Nom:  JABAL  Prenom:  GHIZLANE\n",
      "Nom:  JABRI  Prenom:  IMANE\n",
      "Nom:  KADIMI SKALLI  Prenom:  DOUNIA\n",
      "Nom:  KAHLI  Prenom:  ILIASS\n",
      "Nom:  KANDOUSSI  Prenom:  EL MEHDI\n",
      "Nom:  KHAMLICHI  Prenom:  AMINE\n",
      "Nom:  KHANNAT  Prenom:  AICHA\n",
      "Nom:  KINANI  Prenom:  YOUNESS\n",
      "Nom:  KORACHI  Prenom:  ZINEB\n",
      "Nom:  KORAMI  Prenom:  YASSIR\n",
      "Nom:  LAGMANI  Prenom:  SALMA\n",
      "Nom:  LAKSSIOUER  Prenom:  AHMED\n",
      "Nom:  LANOUNI  Prenom:  ACHRAF\n",
      "Nom:  LAOUZI  Prenom:  ROUKIA\n",
      "Nom:  LBOUCHOUARI  Prenom:  MUSTAPHA\n",
      "Nom:  LEMBARKI  Prenom:  MOHAMED AMINE\n",
      "Nom:  LOGDALI  Prenom:  SOUFIANE\n",
      "Nom:  LOTFI EL IDRISSI  Prenom:  OTHMANE\n",
      "Nom:  LOUGHZAFI  Prenom:  YACIRE\n",
      "Nom:  MACHKOUR  Prenom:  MONCEF\n",
      "Nom:  MAGHRAOUI  Prenom:  ABDELHAKIM\n",
      "Nom:  MAIOUAK  Prenom:  MARIEM\n",
      "Nom:  MAKBOUB  Prenom:  HAJAR\n",
      "Nom:  MAMMAR  Prenom:  GHITA\n",
      "Nom:  MASBAH  Prenom:  REDOUAN\n",
      "Nom:  MASK  Prenom:  MERYEM\n",
      "Nom:  MASSOU  Prenom:  SANA\n",
      "Nom:  MEDRANI  Prenom:  SOUFIA\n",
      "Nom:  MERIZAK  Prenom:  YOUSSEF\n",
      "Nom:  MERZAQ  Prenom:  SELIM\n",
      "Nom:  MESBAHI  Prenom:  SOUMIA\n",
      "Nom:  MESSOUDI  Prenom:  SOUNDOUSS\n",
      "Nom:  METWALLI  Prenom:  AYOUB\n",
      "Nom:  MIFDAL  Prenom:  ABDELALI\n",
      "Nom:  MIHI  Prenom:  KAOUTAR\n",
      "Nom:  MORCHID  Prenom:  ZAKARIA\n",
      "Nom:  MOUDEN  Prenom:  KENZA\n",
      "Nom:  MOUHARRIR  Prenom:  SARA\n",
      "Nom:  MOULOU  Prenom:  ZAKARIA\n",
      "Nom:  NABIL  Prenom:  SOUFIANE\n",
      "Nom:  NAJIH  Prenom:  YAAKOUB\n",
      "Nom:  NEJJARI  Prenom:  LOUBNA\n",
      "Nom:  OMARI  Prenom:  SOUFIANE\n",
      "Nom:  OUAGAGUE  Prenom:  MOSTAFA\n",
      "Nom:  OUKHEYI  Prenom:  BRAHIM\n",
      "Nom:  OULHAJ  Prenom:  JAMILA\n",
      "Nom:  RACHID  Prenom:  AMINE\n",
      "Nom:  RAOUDI  Prenom:  YASSINE\n",
      "Nom:  RAYADH  Prenom:  CHAIMAE\n",
      "Nom:  REZZOUQI  Prenom:  HASNAE\n",
      "Nom:  REZZOUQI  Prenom:  HAJAR\n",
      "Nom:  ROUANE  Prenom:  KAWTAR\n",
      "Nom:  SAADI  Prenom:  MASSYLE\n",
      "Nom:  SABRE  Prenom:  NABIL\n",
      "Nom:  SADEQ  Prenom:  ALI\n",
      "Nom:  SAIDI  Prenom:  MOHAMMED AMINE\n",
      "Nom:  SAIED  Prenom:  YASSINE\n",
      "Nom:  SAILOUHI  Prenom:  LAMIAA\n",
      "Nom:  SAKKAH  Prenom:  HASNAE\n",
      "Nom:  SAOUALAH  Prenom:  JIHAD\n",
      "Nom:  SARA  Prenom:  HAMZA\n",
      "Nom:  SEFIANE  Prenom:  HAMZA\n",
      "Nom:  SIDIKOU ISSA HAROUNA  Prenom:  AMINATOU\n",
      "Nom:  SOALI  Prenom:  YASSAMINE\n",
      "Nom:  TAHIR  Prenom:  KAOUTAR\n",
      "Nom:  TAHIRI AMINE  Prenom:  MOHAMMED\n",
      "Nom:  TANTAOUI  Prenom:  MOHAMED\n",
      "Nom:  TAOUDI EDRISSI  Prenom:  HASNAA\n",
      "Nom:  TAZLAFT  Prenom:  AMINE\n",
      "Nom:  TERHZAZ  Prenom:  SIHAM\n",
      "Nom:  TERIKI  Prenom:  FATIMA EZZAHRA\n",
      "Nom:  TORRES  Prenom:  DINA\n",
      "Nom:  YACHAOUI  Prenom:  AYMAN\n",
      "Nom:  YOUSFI  Prenom:  AOLA\n",
      "Nom:  ZAHIR  Prenom:  OMAR\n",
      "Nom:  ZAIDI  Prenom:  OUSSAMA\n",
      "Nom:  ZAKHNINI  Prenom:  ABDELLAH\n",
      "Nom:  ZEKRAOUI  Prenom:  IMANE\n",
      "Nom:  ZEROUAL  Prenom:  YASSINE\n",
      "Nom:  ZEROUAL  Prenom:  ISSAM\n",
      "Nom:  ZNAIDI  Prenom:  YASSER\n",
      "Nom:  ZOUAGUI  Prenom:  ZINEB\n",
      "Nom:  ZRAIBI  Prenom:  SALMA\n"
     ]
    }
   ],
   "source": [
    "print('Liste eleve promo 2015: ')\n",
    "for item in data:\n",
    "    a=item.contents\n",
    "    print('Nom: ',a[2].text,' Prenom: ',a[4].text)"
   ]
  },
  {
   "cell_type": "code",
   "execution_count": 68,
   "metadata": {},
   "outputs": [],
   "source": [
    "url='https://www.jumia.com.ng/laptops/'"
   ]
  },
  {
   "cell_type": "code",
   "execution_count": 69,
   "metadata": {},
   "outputs": [
    {
     "name": "stdout",
     "output_type": "stream",
     "text": [
      "200\n"
     ]
    }
   ],
   "source": [
    "req=requests.get(url)\n",
    "status=req.status_code\n",
    "encoding=req.encoding\n",
    "text=BeautifulSoup(req.text,'html.parser')\n",
    "print(status)"
   ]
  },
  {
   "cell_type": "code",
   "execution_count": 70,
   "metadata": {},
   "outputs": [
    {
     "data": {
      "text/plain": [
       "<a class=\"link\" href=\"https://www.jumia.com.ng/envy-13-8th-gen-intel-core-i7-1.8-up-to-4.0ghz-8gb256gb-ssd-1tb-external-hdd13.3-inch-wins-10-hp-mpg340803.html\"> <div class=\"top\"> </div> <div class=\"image-wrapper default-state\"><img alt=\"Envy 13 8th Gen Intel Core I7-1.8 Up To 4.0Ghz (8GB,256GB SSD + 1TB External HDD)13.3-inch Wins 10\" class=\"lazy image\" data-image-vertical=\"1\" data-placeholder=\"placeholder_m_1.jpg\" data-sku=\"HP246EL0Y6WEGNAFAMZ\" data-src=\"https://ng.jumia.is/ZvPUy7w_tDOu6EzuF01LXxJgs0g=/fit-in/220x220/filters:fill(white):sharpen(1,0,false):quality(100)/product/57/428872/1.jpg?5409\" height=\"220\" src=\"data:image/gif;base64,R0lGODlhAQABAIAAAAAAAP///yH5BAEAAAAALAAAAAABAAEAAAIBRAA7\" width=\"220\"/><noscript><img class=\"image\" height=\"220\" src=\"https://ng.jumia.is/ZvPUy7w_tDOu6EzuF01LXxJgs0g=/fit-in/220x220/filters:fill(white):sharpen(1,0,false):quality(100)/product/57/428872/1.jpg?5409\" width=\"220\"/></noscript></div> <h2 class=\"title\"><span class=\"brand\">Hp </span> <span class=\"name\" dir=\"ltr\">Envy 13 8th Gen Intel Core I7-1.8 Up To 4.0Ghz (8GB,256GB SSD + 1TB External HDD)13.3-inch Wins 10</span></h2><div class=\"price-container clearfix\"><span class=\"sale-flag-percent\">-12%</span> <span class=\"price-box ri\"> <span class=\"price\"><span data-currency-iso=\"NGN\">₦</span> <span data-price=\"380000\" dir=\"ltr\">380,000</span> </span> <span class=\"price -old\"><span data-currency-iso=\"NGN\">₦</span> <span data-price=\"430000\" dir=\"ltr\">430,000</span> </span> </span></div> <div class=\"rating-stars\"><div class=\"stars-container\"><div class=\"stars\" style=\"width: 20%\"></div></div> <div class=\"total-ratings\">(1)</div> </div> <div class=\"list -sizes\" data-selected-sku=\"\"> </div> <button class=\"osh-btn -primary -add-to-cart js-link js-add_cart_tracking\" data-add-to-cart-type=\"catalogPage\" data-emit-event=\"cart-item.add\" data-js-uri=\"https://www.jumia.com.ng/ajax/cart/add/?return=json&amp;keepMessages=false&amp;sku=HP246EL0Y6WEGNAFAMZ-37006773&amp;crossSellSku=\" data-sku=\"HP246EL0Y6WEGNAFAMZ\" data-sku-simple=\"HP246EL0Y6WEGNAFAMZ-37006773\"> <span class=\"label\">Buy now</span> </button> <div class=\"osh-popup -template -checkout link hidden js-back-in-stock-reminder-popup-HP246EL0Y6WEGNAFAMZ\" data-close-callback=\"\" data-href=\"https://www.jumia.com.ng/ajax/reminder/getreminderform/sku/HP246EL0Y6WEGNAFAMZ/\" data-open-callback=\"popup.BackInStockReminder.open\" data-style=\"back-in-stock-reminder\" data-title=\"Please notify me when this product is available again\" data-type=\"ajax\"></div> </a>"
      ]
     },
     "execution_count": 70,
     "metadata": {},
     "output_type": "execute_result"
    }
   ],
   "source": [
    "data=text.findAll('a',{'class':'link'})\n",
    "for item in data:\n",
    "    pass\n",
    "item"
   ]
  },
  {
   "cell_type": "code",
   "execution_count": 86,
   "metadata": {},
   "outputs": [
    {
     "name": "stdout",
     "output_type": "stream",
     "text": [
      "Mark:  Hp \n",
      "Nom:  Envy 13 8th Gen Intel Core I7-1.8 Up To 4.0Ghz (8GB,256GB SSD + 1TB External HDD)13.3-inch Wins 10 \n",
      "Prix:  ₦ 380,000\n"
     ]
    }
   ],
   "source": [
    "brand=item.find_all('span',{'class':'brand'})[0].text.strip()\n",
    "name=item.find_all('span',{'class':'name'})[0].text.strip()\n",
    "price=item.find_all('span',{'class':'price'})[0].text.strip()\n",
    "print('Mark: ',brand,'\\nNom: ',name,'\\nPrix: ',price)"
   ]
  },
  {
   "cell_type": "code",
   "execution_count": 93,
   "metadata": {},
   "outputs": [
    {
     "data": {
      "text/plain": [
       "'https://ng.jumia.is/ZvPUy7w_tDOu6EzuF01LXxJgs0g=/fit-in/220x220/filters:fill(white):sharpen(1,0,false):quality(100)/product/57/428872/1.jpg?5409'"
      ]
     },
     "execution_count": 93,
     "metadata": {},
     "output_type": "execute_result"
    }
   ],
   "source": [
    "img=item.find('img',{'class':'lazy image'})\n",
    "img_src=img.get('data-src')\n",
    "img_src"
   ]
  },
  {
   "cell_type": "code",
   "execution_count": 103,
   "metadata": {},
   "outputs": [],
   "source": [
    "def get_img(url_img,id):\n",
    "    r=requests.get(url_img)\n",
    "    if r.status_code==200:\n",
    "        #img = Image.open(BytesIO(r.content))\n",
    "        img_container=\"E:/\"+str(id)+'.jpg'\n",
    "        with open(img_container ,'wb') as f:\n",
    "            f.write(r.content) "
   ]
  },
  {
   "cell_type": "code",
   "execution_count": 104,
   "metadata": {},
   "outputs": [],
   "source": [
    "get_img(img_src,1)"
   ]
  },
  {
   "cell_type": "markdown",
   "metadata": {},
   "source": [
    "![](1.jpg)"
   ]
  },
  {
   "cell_type": "code",
   "execution_count": 150,
   "metadata": {},
   "outputs": [],
   "source": [
    "DataFrame=pd.DataFrame(columns=['Lang', 'Num Artic'])"
   ]
  },
  {
   "cell_type": "code",
   "execution_count": 113,
   "metadata": {},
   "outputs": [],
   "source": [
    "url='https://www.wikipedia.org/'"
   ]
  },
  {
   "cell_type": "code",
   "execution_count": 114,
   "metadata": {},
   "outputs": [
    {
     "name": "stdout",
     "output_type": "stream",
     "text": [
      "200\n"
     ]
    }
   ],
   "source": [
    "req=requests.get(url)\n",
    "status=req.status_code\n",
    "encoding=req.encoding\n",
    "text=BeautifulSoup(req.text,'html.parser')\n",
    "print(status)"
   ]
  },
  {
   "cell_type": "code",
   "execution_count": 140,
   "metadata": {},
   "outputs": [
    {
     "data": {
      "text/plain": [
       "'5\\xa0935\\xa0000+'"
      ]
     },
     "execution_count": 140,
     "metadata": {},
     "output_type": "execute_result"
    }
   ],
   "source": [
    "data=text.findAll('div',{'class':'central-featured'})\n",
    "for item in data:\n",
    "    pass\n",
    "item.contents[].findAll('bdi')[0].text"
   ]
  },
  {
   "cell_type": "code",
   "execution_count": 153,
   "metadata": {},
   "outputs": [],
   "source": [
    "i=7\n",
    "while i<44:\n",
    "    l=[item.contents[i].findAll('strong')[0].text.strip(),item.contents[i].findAll('bdi')[0].text.strip()]\n",
    "    DataFrame.loc[i-7]=l\n",
    "    i+=4"
   ]
  },
  {
   "cell_type": "code",
   "execution_count": 154,
   "metadata": {},
   "outputs": [
    {
     "data": {
      "text/html": [
       "<div>\n",
       "<style scoped>\n",
       "    .dataframe tbody tr th:only-of-type {\n",
       "        vertical-align: middle;\n",
       "    }\n",
       "\n",
       "    .dataframe tbody tr th {\n",
       "        vertical-align: top;\n",
       "    }\n",
       "\n",
       "    .dataframe thead th {\n",
       "        text-align: right;\n",
       "    }\n",
       "</style>\n",
       "<table border=\"1\" class=\"dataframe\">\n",
       "  <thead>\n",
       "    <tr style=\"text-align: right;\">\n",
       "      <th></th>\n",
       "      <th>Lang</th>\n",
       "      <th>Num Artic</th>\n",
       "    </tr>\n",
       "  </thead>\n",
       "  <tbody>\n",
       "    <tr>\n",
       "      <th>0</th>\n",
       "      <td>English</td>\n",
       "      <td>5 935 000+</td>\n",
       "    </tr>\n",
       "    <tr>\n",
       "      <th>4</th>\n",
       "      <td>EspaÃ±ol</td>\n",
       "      <td>1 546 000+</td>\n",
       "    </tr>\n",
       "    <tr>\n",
       "      <th>8</th>\n",
       "      <td>æ¥æ¬èª</td>\n",
       "      <td>1 169 000+</td>\n",
       "    </tr>\n",
       "    <tr>\n",
       "      <th>12</th>\n",
       "      <td>Deutsch</td>\n",
       "      <td>2 345 000+</td>\n",
       "    </tr>\n",
       "    <tr>\n",
       "      <th>16</th>\n",
       "      <td>Ð ÑÑÑÐºÐ¸Ð¹</td>\n",
       "      <td>1 569 000+</td>\n",
       "    </tr>\n",
       "    <tr>\n",
       "      <th>20</th>\n",
       "      <td>FranÃ§ais</td>\n",
       "      <td>2 141 000+</td>\n",
       "    </tr>\n",
       "    <tr>\n",
       "      <th>24</th>\n",
       "      <td>Italiano</td>\n",
       "      <td>1 554 000+</td>\n",
       "    </tr>\n",
       "    <tr>\n",
       "      <th>28</th>\n",
       "      <td>ä¸­æ</td>\n",
       "      <td>1 074 000+</td>\n",
       "    </tr>\n",
       "    <tr>\n",
       "      <th>32</th>\n",
       "      <td>PortuguÃªs</td>\n",
       "      <td>1 014 000+</td>\n",
       "    </tr>\n",
       "    <tr>\n",
       "      <th>36</th>\n",
       "      <td>Polski</td>\n",
       "      <td>1 360 000+</td>\n",
       "    </tr>\n",
       "  </tbody>\n",
       "</table>\n",
       "</div>"
      ],
      "text/plain": [
       "              Lang   Num Artic\n",
       "0          English  5 935 000+\n",
       "4         EspaÃ±ol  1 546 000+\n",
       "8        æ¥æ¬èª  1 169 000+\n",
       "12         Deutsch  2 345 000+\n",
       "16  Ð ÑÑÑÐºÐ¸Ð¹  1 569 000+\n",
       "20       FranÃ§ais  2 141 000+\n",
       "24        Italiano  1 554 000+\n",
       "28          ä¸­æ  1 074 000+\n",
       "32      PortuguÃªs  1 014 000+\n",
       "36          Polski  1 360 000+"
      ]
     },
     "execution_count": 154,
     "metadata": {},
     "output_type": "execute_result"
    }
   ],
   "source": [
    "DataFrame"
   ]
  },
  {
   "cell_type": "code",
   "execution_count": null,
   "metadata": {},
   "outputs": [],
   "source": []
  },
  {
   "cell_type": "code",
   "execution_count": null,
   "metadata": {},
   "outputs": [],
   "source": []
  },
  {
   "cell_type": "code",
   "execution_count": null,
   "metadata": {},
   "outputs": [],
   "source": []
  },
  {
   "cell_type": "code",
   "execution_count": 20,
   "metadata": {},
   "outputs": [],
   "source": [
    "def getData(text):\n",
    "    for item in text.findAll('td'):\n",
    "        yield item"
   ]
  },
  {
   "cell_type": "code",
   "execution_count": 21,
   "metadata": {},
   "outputs": [
    {
     "name": "stdout",
     "output_type": "stream",
     "text": [
      "<td align=\"right\" height=\"20\" style=\"height:20px;width:87px;\">1</td>\n",
      "<td align=\"left\" style=\"width:157px;\"><span data-scayt_word=\"ABI\" data-scaytid=\"1\">ABI</span></td>\n",
      "<td align=\"left\" style=\"width:143px;\"><span data-scayt_word=\"YASSIR\" data-scaytid=\"2\">YASSIR</span></td>\n"
     ]
    }
   ],
   "source": [
    "i=0\n",
    "for item in getData(text):\n",
    "    if i<3:\n",
    "        pas\n",
    "        print(item)\n",
    "        i+=1\n",
    "    else:\n",
    "        break"
   ]
  },
  {
   "cell_type": "code",
   "execution_count": null,
   "metadata": {},
   "outputs": [],
   "source": []
  }
 ],
 "metadata": {
  "kernelspec": {
   "display_name": "Python 3",
   "language": "python",
   "name": "python3"
  },
  "language_info": {
   "codemirror_mode": {
    "name": "ipython",
    "version": 3
   },
   "file_extension": ".py",
   "mimetype": "text/x-python",
   "name": "python",
   "nbconvert_exporter": "python",
   "pygments_lexer": "ipython3",
   "version": "3.7.3"
  }
 },
 "nbformat": 4,
 "nbformat_minor": 2
}
